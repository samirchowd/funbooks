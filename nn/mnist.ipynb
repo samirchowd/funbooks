{
 "cells": [
  {
   "cell_type": "code",
   "execution_count": 1,
   "metadata": {},
   "outputs": [],
   "source": [
    "import numpy as np \n",
    "from matplotlib.pyplot import *\n",
    "from tqdm import trange"
   ]
  },
  {
   "cell_type": "code",
   "execution_count": 5,
   "metadata": {},
   "outputs": [],
   "source": [
    "# Credit: Mr. George Hotz https://github.com/geohot/ai-notebooks/blob/master/mnist_from_scratch.ipynb\n",
    "def fetch(url):\n",
    "  import requests, gzip, os, hashlib, numpy\n",
    "  fp = os.path.join(\"/tmp\", hashlib.md5(url.encode('utf-8')).hexdigest())\n",
    "  if os.path.isfile(fp):\n",
    "    with open(fp, \"rb\") as f:\n",
    "      dat = f.read()\n",
    "  else:\n",
    "    with open(fp, \"wb\") as f:\n",
    "      dat = requests.get(url).content\n",
    "      f.write(dat)\n",
    "  return numpy.frombuffer(gzip.decompress(dat), dtype=np.uint8).copy()\n",
    "X_train = fetch(\"http://yann.lecun.com/exdb/mnist/train-images-idx3-ubyte.gz\")[0x10:].reshape((-1, 28, 28))\n",
    "Y_train = fetch(\"http://yann.lecun.com/exdb/mnist/train-labels-idx1-ubyte.gz\")[8:]\n",
    "X_test = fetch(\"http://yann.lecun.com/exdb/mnist/t10k-images-idx3-ubyte.gz\")[0x10:].reshape((-1, 28, 28))\n",
    "Y_test = fetch(\"http://yann.lecun.com/exdb/mnist/t10k-labels-idx1-ubyte.gz\")[8:]"
   ]
  },
  {
   "cell_type": "code",
   "execution_count": 75,
   "metadata": {},
   "outputs": [],
   "source": [
    "import torch\n",
    "import torch.nn as nn\n",
    "import torch.nn.functional as F\n",
    "torch.device('cpu')\n",
    "class DehuaNet(nn.Module):\n",
    "    \n",
    "    def __init__(self):\n",
    "        super(DehuaNet, self).__init__() \n",
    "        \n",
    "        # Setting up layers \n",
    "        self.l1 = nn.Linear(784, 128) \n",
    "        self.l2 = nn.Linear(128, 10) \n",
    "        self.sm = nn.LogSoftmax(dim=0) \n",
    "    \n",
    "    def forward(self, x): \n",
    "        x = F.relu(self.l1(x))\n",
    "        x = F.relu(self.l2(x))\n",
    "        x = self.sm(x) \n",
    "        return x \n",
    "    "
   ]
  },
  {
   "cell_type": "code",
   "execution_count": 110,
   "metadata": {},
   "outputs": [
    {
     "name": "stdout",
     "output_type": "stream",
     "text": [
      "l1.bias.grad before backward\n",
      "None\n",
      "l1.bias.grad after backward\n",
      "tensor([ 0.8109,  0.0000, -1.7319,  0.3373,  0.0000,  0.6716,  0.0000,  2.1138,\n",
      "        -0.1788,  0.0000, -0.4555,  0.5834,  0.0000,  1.7677,  0.4669,  2.0506,\n",
      "         0.0000,  0.0000,  0.0000,  0.0000,  0.0000,  0.0000,  0.3320,  0.0000,\n",
      "         0.0000,  2.1688,  0.0000,  0.9091,  0.0000,  0.0000,  0.0000,  0.0000,\n",
      "         0.2632,  0.0000, -1.0058,  0.0000, -1.6659,  0.0000,  0.1417,  0.0000,\n",
      "         1.0756,  0.0000, -0.8825,  0.2219,  0.0000,  0.0000,  0.0000,  1.9283,\n",
      "        -1.5145,  1.3810,  1.1389,  0.0000,  0.0000,  0.0000, -1.4677, -0.6325,\n",
      "         1.0156,  0.0000, -0.6919,  0.0000,  0.8559, -0.6209,  0.0000,  0.0000,\n",
      "        -1.0316,  0.0000, -2.5735,  0.4230,  0.0000,  0.0000,  0.0000, -1.8071,\n",
      "         0.0000,  0.0000,  0.0000,  0.0000,  0.0000,  0.0000,  0.0000,  0.5090,\n",
      "         0.0000,  0.0000,  0.0000, -1.1047,  0.8474,  0.0000,  0.0000,  0.0000,\n",
      "         0.0000,  0.0000,  0.0000,  0.0000,  0.0000,  0.9671,  0.0000,  1.9606,\n",
      "         0.0000,  1.3448,  0.0000,  0.0000,  0.0000,  0.0000, -0.3042,  0.0000,\n",
      "         0.9456, -0.6703, -0.8129, -0.4723, -1.3024,  0.0000,  0.9104, -0.3642,\n",
      "         1.4085,  0.0000, -0.3079, -0.0289,  0.0000,  0.0000, -1.1342, -1.1787,\n",
      "        -0.9670,  0.0000, -2.3782,  2.5089,  0.0000, -1.2787,  2.0233,  0.7515])\n"
     ]
    }
   ],
   "source": [
    "net = DehuaNet()\n",
    "pog = torch.flatten(torch.tensor(X_train[0], dtype=torch.float))\n",
    "out = net(pog)\n",
    "loss_function = nn.MSELoss() \n",
    "label = torch.zeros(10)\n",
    "label[Y_train[0]] = 1\n",
    "loss = loss_function(out, label)\n",
    "\n",
    "net.zero_grad()\n",
    "\n",
    "print('l1.bias.grad before backward')\n",
    "print(net.l1.bias.grad)\n",
    "\n",
    "loss.backward()\n",
    "\n",
    "print('l1.bias.grad after backward')\n",
    "print(net.l1.bias.grad)"
   ]
  },
  {
   "cell_type": "code",
   "execution_count": 77,
   "metadata": {},
   "outputs": [],
   "source": []
  }
 ],
 "metadata": {
  "kernelspec": {
   "display_name": "Python 3",
   "language": "python",
   "name": "python3"
  },
  "language_info": {
   "codemirror_mode": {
    "name": "ipython",
    "version": 3
   },
   "file_extension": ".py",
   "mimetype": "text/x-python",
   "name": "python",
   "nbconvert_exporter": "python",
   "pygments_lexer": "ipython3",
   "version": "3.8.5"
  }
 },
 "nbformat": 4,
 "nbformat_minor": 4
}
