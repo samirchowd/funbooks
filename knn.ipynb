{
 "cells": [
  {
   "cell_type": "code",
   "execution_count": 2,
   "metadata": {},
   "outputs": [],
   "source": [
    "%matplotlib inline \n",
    "import numpy as np \n",
    "import matplotlib.pyplot as plt "
   ]
  },
  {
   "cell_type": "code",
   "execution_count": 75,
   "metadata": {},
   "outputs": [
    {
     "data": {
      "text/plain": [
       "(100, 6)"
      ]
     },
     "execution_count": 75,
     "metadata": {},
     "output_type": "execute_result"
    }
   ],
   "source": [
    "# Generating random data \n",
    "# From yotabye0: X -> DATA  Y -> LABELS  \n",
    "\n",
    "clust1 = np.random.normal(10, 3, size=(100,2))\n",
    "clust2 = np.random.normal(50, 10, size=(100,2))\n",
    "clust3 = np.random.normal(100, 1, size=(100,2))\n",
    "\n",
    "np.column_stack((clust1,clust2,clust3)).shape"
   ]
  },
  {
   "cell_type": "code",
   "execution_count": 11,
   "metadata": {},
   "outputs": [
    {
     "data": {
      "image/png": "[encoded data removed]",
      "text/plain": [
       "<Figure size 432x288 with 1 Axes>"
      ]
     },
     "metadata": {
      "needs_background": "light"
     },
     "output_type": "display_data"
    }
   ],
   "source": [
    "# Plot the random data\n",
    "plt.scatter(clust1[:,0], clust1[:,1])\n",
    "plt.scatter(clust2[:,0], clust2[:,1])\n",
    "plt.scatter(clust3[:,0], clust3[:,1])\n",
    "plt.show()"
   ]
  },
  {
   "cell_type": "code",
   "execution_count": 72,
   "metadata": {},
   "outputs": [
    {
     "data": {
      "text/plain": [
       "array([  7.23277967,   7.50070355,   7.9604647 ,   8.95120154,\n",
       "         9.18414194,   9.23726976,   9.52829184,   9.65484186,\n",
       "         9.76477347,   9.83085798,  10.2319966 ,  10.27314912,\n",
       "        10.4902714 ,  10.72853312,  10.7390614 ,  11.25261101,\n",
       "        11.4255104 ,  11.5190581 ,  11.58608373,  11.59745666,\n",
       "        11.70521644,  12.01660317,  12.0835573 ,  12.18455   ,\n",
       "        12.42420719,  12.50729912,  12.50858933,  12.71622456,\n",
       "        12.99180679,  13.10299868,  13.17939768,  13.19102934,\n",
       "        13.19538231,  13.2018612 ,  13.30316036,  13.57033422,\n",
       "        13.58865841,  13.66907086,  13.8879987 ,  13.89189263,\n",
       "        13.93592982,  14.0072352 ,  14.12469439,  14.14567822,\n",
       "        14.22461323,  14.29405134,  14.33160836,  14.3384504 ,\n",
       "        14.44556105,  14.72653676,  14.81558188,  14.86296528,\n",
       "        14.9095769 ,  14.97821283,  15.01357493,  15.03971715,\n",
       "        15.06732203,  15.29429253,  15.46040961,  15.47088678,\n",
       "        15.61570555,  15.64278389,  15.74618311,  15.83295341,\n",
       "        15.88134098,  16.0248549 ,  16.10107654,  16.14590055,\n",
       "        16.15314301,  16.19559311,  16.24408124,  16.2492684 ,\n",
       "        16.26884923,  16.27729028,  16.2903759 ,  16.45191788,\n",
       "        16.54908883,  16.78094991,  16.79422129,  16.87142545,\n",
       "        16.87785111,  16.91134515,  17.18982415,  17.45589466,\n",
       "        17.46125061,  17.46424949,  18.0473361 ,  18.0758817 ,\n",
       "        18.23271432,  18.5052678 ,  18.65200307,  18.76992884,\n",
       "        19.19303201,  19.88340844,  20.27032259,  21.01261041,\n",
       "        21.03878848,  21.21001618,  22.40969957,  22.69261856,\n",
       "        24.21780854,  25.62487266,  27.34578349,  27.64502251,\n",
       "        29.12291298,  29.27692057,  29.83506496,  30.01693287,\n",
       "        31.13573868,  31.92358436,  32.01859108,  32.38642996,\n",
       "        33.04145873,  33.39367104,  33.49798   ,  34.411985  ,\n",
       "        35.91552367,  35.98897726,  36.07900308,  36.79844087,\n",
       "        36.99467244,  37.12446802,  37.13054702,  37.36850448,\n",
       "        37.52677656,  37.59823777,  37.82253945,  37.92146454,\n",
       "        38.06166071,  38.16309625,  38.22930854,  38.27994994,\n",
       "        38.47394309,  38.67821123,  38.92293668,  39.33448086,\n",
       "        40.01864059,  40.39628838,  40.58606298,  40.60847494,\n",
       "        40.96875954,  41.06773673,  41.20384183,  41.29683835,\n",
       "        41.6003616 ,  41.66620657,  41.91331327,  42.19469456,\n",
       "        42.62067354,  43.93866429,  44.07817641,  44.1343916 ,\n",
       "        44.17564847,  44.21423019,  44.22459156,  44.26176566,\n",
       "        44.27193986,  44.92608196,  45.24236127,  45.46124505,\n",
       "        45.800098  ,  45.80599658,  46.31750669,  46.61040939,\n",
       "        46.98577041,  47.59427966,  47.64967717,  47.72705183,\n",
       "        48.02065047,  48.18937075,  48.60523413,  48.97982605,\n",
       "        49.42688653,  49.49137235,  49.83233308,  50.01881601,\n",
       "        50.30267069,  51.08627281,  51.50327692,  51.76584461,\n",
       "        52.74887661,  53.60498215,  53.70821933,  53.72144892,\n",
       "        53.93589092,  54.92505678,  55.94174909,  56.1699327 ,\n",
       "        56.84573637,  57.02514097,  57.14649231,  59.26149424,\n",
       "        59.80791433,  61.80382183,  62.05970605,  62.59242787,\n",
       "        65.69575583,  65.80342563,  67.69091354,  78.10445698,\n",
       "       110.89475786, 111.07897171, 111.10187634, 111.40187224,\n",
       "       111.48900256, 111.58876152, 111.62562944, 111.65308213,\n",
       "       111.66489346, 111.70675989, 111.74297851, 111.78369861,\n",
       "       111.79776747, 111.86839103, 111.94683799, 111.99757851,\n",
       "       111.99772375, 112.08209014, 112.10508237, 112.11695911,\n",
       "       112.17532161, 112.1875353 , 112.18855529, 112.20468747,\n",
       "       112.25782948, 112.28018146, 112.31371529, 112.32975683,\n",
       "       112.342791  , 112.35443107, 112.36699137, 112.388659  ,\n",
       "       112.39600082, 112.41439675, 112.50799995, 112.54876861,\n",
       "       112.60270903, 112.62299099, 112.8264195 , 112.87278023,\n",
       "       112.87680098, 112.90523748, 112.9129154 , 112.96873666,\n",
       "       112.97118794, 112.9733533 , 112.99765207, 113.00080743,\n",
       "       113.00425988, 113.01334551, 113.07745921, 113.09674684,\n",
       "       113.11063157, 113.11793565, 113.13728413, 113.16756147,\n",
       "       113.18522871, 113.27586305, 113.30042866, 113.30854893,\n",
       "       113.31646391, 113.33014486, 113.34682247, 113.35397089,\n",
       "       113.35664204, 113.38162527, 113.38316826, 113.38759876,\n",
       "       113.39840076, 113.46172736, 113.46678257, 113.47298339,\n",
       "       113.53748273, 113.55189885, 113.56500531, 113.6567688 ,\n",
       "       113.65898584, 113.6898247 , 113.69360757, 113.71037946,\n",
       "       113.7367775 , 113.74213701, 113.89045466, 113.94568126,\n",
       "       113.99266646, 114.04456571, 114.0850948 , 114.13632009,\n",
       "       114.1398895 , 114.18176547, 114.18578667, 114.50309862,\n",
       "       114.66940517, 114.69678574, 114.81156324, 114.89876569,\n",
       "       114.90990664, 114.99128096, 115.12395142, 115.64273932])"
      ]
     },
     "execution_count": 72,
     "metadata": {},
     "output_type": "execute_result"
    }
   ],
   "source": [
    "# Define new data point \n",
    "new_point = np.asarray([20,20])\n",
    "#distances = np.sort(np.column_stack((a,b,c)).reshape(1,-1))\n",
    "\n",
    "# Find distance from point to all other points \n",
    "a = np.sort(np.linalg.norm(new_point-clust1, axis= 1))\n",
    "b = np.sort(np.linalg.norm(new_point-clust2, axis= 1))\n",
    "c = np.sort(np.linalg.norm(new_point-clust3, axis= 1))\n",
    "\n",
    "distances = np.column_stack((a,b,c)).reshape(1,-1)\n",
    "np.sort(distances)[0]\n"
   ]
  }
 ],
 "metadata": {
  "kernelspec": {
   "display_name": "Python 3",
   "language": "python",
   "name": "python3"
  },
  "language_info": {
   "codemirror_mode": {
    "name": "ipython",
    "version": 3
   },
   "file_extension": ".py",
   "mimetype": "text/x-python",
   "name": "python",
   "nbconvert_exporter": "python",
   "pygments_lexer": "ipython3",
   "version": "3.8.5"
  }
 },
 "nbformat": 4,
 "nbformat_minor": 4
}
